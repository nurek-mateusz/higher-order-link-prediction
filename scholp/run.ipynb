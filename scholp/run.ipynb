{
 "cells": [
  {
   "cell_type": "markdown",
   "metadata": {},
   "source": [
    "# Example from article"
   ]
  },
  {
   "cell_type": "code",
   "execution_count": 13,
   "metadata": {},
   "outputs": [
    {
     "data": {
      "text/plain": [
       "([0 0 … 0 0; 245996 0 … 0 0; … ; 0 0 … 1075 0; 2732839 157236 … 285 0], [0 0 … 0 0; 58749 0 … 0 0; … ; 0 0 … 7479 0; 0 0 … 0 0])"
      ]
     },
     "execution_count": 13,
     "metadata": {},
     "output_type": "execute_result"
    }
   ],
   "source": [
    "include(\"lifecycle_analysis.jl\")\n",
    "# read dataset from data/coauth-MAG-History directory\n",
    "hist = read_txt_data(\"coauth-MAG-History\")  \n",
    "# Get data for Figure 5A (this may take a couple minutes)\n",
    "closed_transition_counts, open_transition_counts = process_lifecycles(hist)"
   ]
  },
  {
   "cell_type": "code",
   "execution_count": 14,
   "metadata": {},
   "outputs": [
    {
     "data": {
      "text/plain": [
       "11×11 Matrix{Int64}:\n",
       "     0      0      0      0      0      0     0      0      0     0  0\n",
       " 58749      0      0      0      0      0     0      0      0     0  0\n",
       "     0  13034  15002      0      0      0     0      0      0     0  0\n",
       "     0  45715      0      0      0      0     0      0      0     0  0\n",
       "     0      0  13034  13098  19396      0     0      0      0     0  0\n",
       "     0      0      0  32617      0      0     0      0      0     0  0\n",
       "     0      0      0      0   5029      0  9465      0      0     0  0\n",
       "     0      0      0      0  21103  11579     0  20511      0     0  0\n",
       "     0      0      0      0      0      0  5029   9674  21758     0  0\n",
       "     0      0      0      0      0      0     0      0   2977  7479  0\n",
       "     0      0      0      0      0      0     0      0      0     0  0"
      ]
     },
     "execution_count": 14,
     "metadata": {},
     "output_type": "execute_result"
    }
   ],
   "source": [
    "open_transition_counts"
   ]
  },
  {
   "cell_type": "code",
   "execution_count": 15,
   "metadata": {},
   "outputs": [
    {
     "data": {
      "text/plain": [
       "11×11 Matrix{Int64}:\n",
       "       0       0       0     0      0    0     0     0     0     0  0\n",
       "  245996       0       0     0      0    0     0     0     0     0  0\n",
       "       0   74219  351057     0      0    0     0     0     0     0  0\n",
       "       0   14541       0     0      0    0     0     0     0     0  0\n",
       "       0       0    7575  5781  12316    0     0     0     0     0  0\n",
       "       0       0       0   773      0    0     0     0     0     0  0\n",
       "       0       0       0     0   3560    0  7730     0     0     0  0\n",
       "       0       0       0     0    952  445     0  1035     0     0  0\n",
       "       0       0       0     0      0    0   389   618  1945     0  0\n",
       "       0       0       0     0      0    0     0     0   285  1075  0\n",
       " 2732839  157236   66644  7987   8844  328  3171   779   722   285  0"
      ]
     },
     "execution_count": 15,
     "metadata": {},
     "output_type": "execute_result"
    }
   ],
   "source": [
    "closed_transition_counts"
   ]
  },
  {
   "cell_type": "markdown",
   "metadata": {},
   "source": [
    "# Motif analysis in fields network"
   ]
  },
  {
   "cell_type": "code",
   "execution_count": 3,
   "metadata": {},
   "outputs": [
    {
     "data": {
      "text/plain": [
       "([0 0 … 0 0; 5430 0 … 0 0; … ; 0 0 … 3775111 0; 174 99 … 677 0], [0 0 … 0 0; 23833 0 … 0 0; … ; 0 0 … 29110958 0; 0 0 … 0 0])"
      ]
     },
     "execution_count": 3,
     "metadata": {},
     "output_type": "execute_result"
    }
   ],
   "source": [
    "include(\"lifecycle_analysis.jl\")\n",
    "data = read_txt_data(\"fields-MAG-aipapers\")\n",
    "closed_transition_counts, open_transition_counts = process_lifecycles(data)"
   ]
  },
  {
   "cell_type": "code",
   "execution_count": 5,
   "metadata": {},
   "outputs": [
    {
     "data": {
      "text/plain": [
       "11×11 Matrix{Int64}:\n",
       "     0      0        0     0        0  …        0         0         0  0\n",
       " 23833      0        0     0        0           0         0         0  0\n",
       "     0  15160  2461294     0        0           0         0         0  0\n",
       "     0   8673        0     0        0           0         0         0  0\n",
       "     0      0    15160  6455  3160784           0         0         0  0\n",
       "     0      0        0  2218        0  …        0         0         0  0\n",
       "     0      0        0     0    12891           0         0         0  0\n",
       "     0      0        0     0     8724     1236145         0         0  0\n",
       "     0      0        0     0        0        7581  13077737         0  0\n",
       "     0      0        0     0        0           0     10944  29110958  0\n",
       "     0      0        0     0        0  …        0         0         0  0"
      ]
     },
     "execution_count": 5,
     "metadata": {},
     "output_type": "execute_result"
    }
   ],
   "source": [
    "open_transition_counts[:,1:11]"
   ]
  },
  {
   "cell_type": "code",
   "execution_count": 6,
   "metadata": {},
   "outputs": [
    {
     "data": {
      "text/plain": [
       "11×11 Matrix{Int64}:\n",
       "    0     0        0    0        0   0         0      0        0        0  0\n",
       " 5430     0        0    0        0   0         0      0        0        0  0\n",
       "    0  4674  7653379    0        0   0         0      0        0        0  0\n",
       "    0   657        0    0        0   0         0      0        0        0  0\n",
       "    0     0     3925  629  8451313   0         0      0        0        0  0\n",
       "    0     0        0   22        0   0         0      0        0        0  0\n",
       "    0     0        0    0     4251   0  85535718      0        0        0  0\n",
       "    0     0        0    0      188  22         0  39316        0        0  0\n",
       "    0     0        0    0        0   0       672    207  1184350        0  0\n",
       "    0     0        0    0        0   0         0      0      677  3775111  0\n",
       "  174    99      749    6      115   0      3579      3      202      677  0"
      ]
     },
     "execution_count": 6,
     "metadata": {},
     "output_type": "execute_result"
    }
   ],
   "source": [
    "closed_transition_counts"
   ]
  },
  {
   "cell_type": "code",
   "execution_count": 8,
   "metadata": {},
   "outputs": [],
   "source": [
    "# Save results\n",
    "using DelimitedFiles\n",
    "writedlm(\"fields-open-transition-counts.csv\", open_transition_counts)\n",
    "writedlm(\"fields-closed-transition-counts.csv\", closed_transition_counts)"
   ]
  },
  {
   "cell_type": "code",
   "execution_count": 9,
   "metadata": {},
   "outputs": [
    {
     "data": {
      "text/plain": [
       "11×11 Matrix{Int64}:\n",
       "    0     0        0    0        0   0         0      0        0        0  0\n",
       " 5430     0        0    0        0   0         0      0        0        0  0\n",
       "    0  4674  7653379    0        0   0         0      0        0        0  0\n",
       "    0   657        0    0        0   0         0      0        0        0  0\n",
       "    0     0     3925  629  8451313   0         0      0        0        0  0\n",
       "    0     0        0   22        0   0         0      0        0        0  0\n",
       "    0     0        0    0     4251   0  85535718      0        0        0  0\n",
       "    0     0        0    0      188  22         0  39316        0        0  0\n",
       "    0     0        0    0        0   0       672    207  1184350        0  0\n",
       "    0     0        0    0        0   0         0      0      677  3775111  0\n",
       "  174    99      749    6      115   0      3579      3      202      677  0"
      ]
     },
     "execution_count": 9,
     "metadata": {},
     "output_type": "execute_result"
    }
   ],
   "source": [
    "# How to load results\n",
    "a = readdlm(\"fields-open-transition-counts.csv\", Int)\n",
    "b = readdlm(\"fields-closed-transition-counts.csv\", Int)"
   ]
  },
  {
   "cell_type": "markdown",
   "metadata": {},
   "source": [
    "# Motif analysis in coauthorship network"
   ]
  },
  {
   "cell_type": "code",
   "execution_count": 10,
   "metadata": {},
   "outputs": [
    {
     "ename": "LoadError",
     "evalue": "ArgumentError: invalid GenericMemory size: too large for system address width",
     "output_type": "error",
     "traceback": [
      "ArgumentError: invalid GenericMemory size: too large for system address width",
      "",
      "Stacktrace:",
      " [1] GenericMemory",
      "   @ ./boot.jl:516 [inlined]",
      " [2] Array",
      "   @ ./boot.jl:578 [inlined]",
      " [3] spmatmul(A::SparseMatrixCSC{Int64, Int64}, B::SparseMatrixCSC{Int64, Int64})",
      "   @ SparseArrays ~/.julia/juliaup/julia-1.11.4+0.aarch64.apple.darwin14/share/julia/stdlib/v1.11/SparseArrays/src/linalg.jl:225",
      " [4] *",
      "   @ ~/.julia/juliaup/julia-1.11.4+0.aarch64.apple.darwin14/share/julia/stdlib/v1.11/SparseArrays/src/linalg.jl:203 [inlined]",
      " [5] basic_matrices(simplices::Vector{Int64}, nverts::Vector{Int64})",
      "   @ ScHoLP ~/.julia/packages/ScHoLP/uvwJk/src/util.jl:274",
      " [6] collect_lifecycles(data::HONData, only_closed::Bool)",
      "   @ ScHoLP ~/.julia/packages/ScHoLP/uvwJk/src/lifecycles.jl:8",
      " [7] process_lifecycles(data::HONData)",
      "   @ ScHoLP ~/.julia/packages/ScHoLP/uvwJk/src/lifecycles.jl:162",
      " [8] top-level scope",
      "   @ In[10]:4"
     ]
    }
   ],
   "source": [
    "include(\"lifecycle_analysis.jl\")\n",
    "data = read_txt_data(\"coauth-top-MAG-aipapers\")\n",
    "# data = read_txt_data(\"coauth-random-MAG-aipapers\")\n",
    "closed_transition_counts, open_transition_counts = process_lifecycles(data)"
   ]
  }
 ],
 "metadata": {
  "kernelspec": {
   "display_name": "Julia 1.11.4",
   "language": "julia",
   "name": "julia-1.11"
  },
  "language_info": {
   "file_extension": ".jl",
   "mimetype": "application/julia",
   "name": "julia",
   "version": "1.11.4"
  }
 },
 "nbformat": 4,
 "nbformat_minor": 2
}
